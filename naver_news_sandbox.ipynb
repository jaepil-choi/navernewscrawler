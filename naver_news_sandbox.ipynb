{
  "cells": [
    {
      "cell_type": "markdown",
      "metadata": {
        "id": "5lsFEpRVYfdp"
      },
      "source": [
        "# 네이버 뉴스 크롤링"
      ]
    },
    {
      "cell_type": "code",
      "execution_count": 1,
      "metadata": {
        "id": "yv1atJSAYfdx"
      },
      "outputs": [],
      "source": [
        "import requests\n",
        "from requests.adapters import HTTPAdapter\n",
        "from requests.packages.urllib3.util.retry import Retry\n",
        "from bs4 import BeautifulSoup as bs\n",
        "import soupsieve as sv\n",
        "\n",
        "from urllib.request import Request, urlopen\n",
        "from urllib.error import HTTPError, URLError\n",
        "from urllib.parse import quote_plus"
      ]
    },
    {
      "cell_type": "markdown",
      "metadata": {
        "id": "698ZlIZfYfd0"
      },
      "source": [
        "## session 세팅"
      ]
    },
    {
      "cell_type": "code",
      "execution_count": 2,
      "metadata": {
        "id": "eEAzz__vYfd2"
      },
      "outputs": [
        {
          "name": "stderr",
          "output_type": "stream",
          "text": [
            "C:\\Users\\chlje\\AppData\\Local\\Temp/ipykernel_34348/2081969212.py:12: DeprecationWarning: Using 'method_whitelist' with Retry is deprecated and will be removed in v2.0. Use 'allowed_methods' instead\n",
            "  retry_strategy = Retry(**retry_config)\n"
          ]
        }
      ],
      "source": [
        "session = requests.session()\n",
        "\n",
        "assert_status_hook = lambda response, *args, **kwargs: response.raise_for_status()\n",
        "session.hooks[\"response\"] = [assert_status_hook]\n",
        "\n",
        "retry_config = {\n",
        "    \"total\": 10,\n",
        "    \"status_forcelist\": [413, 429, 500, 502, 503, 504],\n",
        "    \"method_whitelist\": [\"GET\", \"POST\"],\n",
        "    \"backoff_factor\": 2,\n",
        "    }\n",
        "retry_strategy = Retry(**retry_config)\n",
        "adapter = HTTPAdapter(max_retries=retry_strategy)\n",
        "\n",
        "session.mount(\"http://\", adapter)\n",
        "session.mount(\"https://\", adapter)"
      ]
    },
    {
      "cell_type": "markdown",
      "metadata": {
        "id": "9qJS-m2pYfd4"
      },
      "source": [
        "## Crawl news data"
      ]
    },
    {
      "cell_type": "code",
      "execution_count": 3,
      "metadata": {
        "id": "_wNWvKqUYfd4"
      },
      "outputs": [],
      "source": [
        "query = '삼성전자'"
      ]
    },
    {
      "cell_type": "code",
      "execution_count": 4,
      "metadata": {
        "colab": {
          "base_uri": "https://localhost:8080/",
          "height": 35
        },
        "id": "bBLjS1pdYfd5",
        "outputId": "46b34d17-203e-4e9d-f06f-b486ab5e0e0d"
      },
      "outputs": [
        {
          "data": {
            "text/plain": [
              "'%EC%82%BC%EC%84%B1%EC%A0%84%EC%9E%90'"
            ]
          },
          "execution_count": 4,
          "metadata": {},
          "output_type": "execute_result"
        }
      ],
      "source": [
        "quote_plus(query) # url 형식으로 encode"
      ]
    },
    {
      "cell_type": "code",
      "execution_count": 5,
      "metadata": {
        "id": "lns6ls3oYfd7"
      },
      "outputs": [],
      "source": [
        "\n",
        "# 검색어, 날짜 집어넣으면 뉴스 검색 결과 내보내주는 함수 \n",
        "# 참고: start_idx는 페이지마다 몇 번째 뉴스인가 라는 값인데, 페이지 넘어갈때마다 10씩 늘어남. \n",
        "#       그러니까 1, 11, 21, ... 으로 늘려가며 페이지 쭉~ 긁으면 됨. \n",
        "\n",
        "def naver_news_search_url(query, start_idx, start_date, end_date=None, sort_key='recent_asc'):\n",
        "    sort_key = sort_key.lower()\n",
        "    assert sort_key in ['recent_asc', 'relevance']\n",
        "    sort_d = {\n",
        "        'recent_asc': '1',\n",
        "        'relevance': '0',\n",
        "    }\n",
        "\n",
        "    encoded_query = quote_plus(query)\n",
        "\n",
        "    start_date = str(start_date)\n",
        "    start_date_dot = start_date[:4] + '.' + start_date[4:6] + '.' + start_date[6:]\n",
        "\n",
        "    if end_date:\n",
        "        end_date = str(end_date)\n",
        "        end_date_dot = end_date[:4] + '.' + end_date[4:6] + '.' + end_date[6:]\n",
        "    else:\n",
        "        end_date_dot = start_date_dot\n",
        "        end_date = start_date\n",
        "\n",
        "    # url = f'https://search.naver.com/search.naver?where=news&query={query}&sm=tab_opt&sort={sort_d[sort_key]}&photo=0&field=0&pd=3&ds={start_date}&de={end_date}&docid=&related=0&mynews=0&office_type=0&office_section_code=0&start={start_idx}'\n",
        "    # url = f'https://m.search.naver.com/search.naver?where=m_news&sm=mtb_pge&query={query}&sort={sort_d[sort_key]}&photo=0&field=0&pd=0&ds={start_date_dot}&de={end_date_dot}&mynews=0&office_type=0&office_section_code=0&news_office_checked=&nso=so:dd,p:all&start={start_idx}'\n",
        "    url = f'https://m.search.naver.com/search.naver?where=m_news&sm=mtb_pge&query={encoded_query}&sort={sort_d[sort_key]}&photo=0&field=0&pd=3&ds={start_date_dot}&de={end_date_dot}&mynews=0&office_type=0&office_section_code=0&news_office_checked=&nso=so:dd,p:from{start_date}to{end_date}&start={start_idx}'\n",
        "    \n",
        "    return url"
      ]
    },
    {
      "cell_type": "code",
      "execution_count": 6,
      "metadata": {
        "id": "rRe0_pZ3Yfd8"
      },
      "outputs": [],
      "source": [
        "start_date = 20220530 # 크롤링할 날짜"
      ]
    },
    {
      "cell_type": "code",
      "execution_count": 36,
      "metadata": {
        "colab": {
          "base_uri": "https://localhost:8080/",
          "height": 54
        },
        "id": "-pPyLjhkYfd9",
        "outputId": "a15a1713-a1e2-4323-9f0c-32628caff1f7"
      },
      "outputs": [
        {
          "data": {
            "text/plain": [
              "'https://m.search.naver.com/search.naver?where=m_news&sm=mtb_pge&query=%EC%82%BC%EC%84%B1%EC%A0%84%EC%9E%90&sort=1&photo=0&field=0&pd=3&ds=2022.05.30&de=2022.05.30&mynews=0&office_type=0&office_section_code=0&news_office_checked=&nso=so:dd,p:from20220530to20220530&start=1'"
            ]
          },
          "execution_count": 36,
          "metadata": {},
          "output_type": "execute_result"
        }
      ],
      "source": [
        "u = naver_news_search_url(query=query, start_idx=1, start_date=start_date) # 이 url 페이지꺼를 긁어오는거임. \n",
        "u"
      ]
    },
    {
      "cell_type": "code",
      "execution_count": 37,
      "metadata": {
        "id": "P8Bduy-GYfd_"
      },
      "outputs": [],
      "source": [
        "headers = {\n",
        "            \"accept\": \"text/html,application/xhtml+xml,application/xml;q=0.9,image/avif,image/webp,image/apng,*/*;q=0.8,application/signed-exchange;v=b3;q=0.9\",\n",
        "            \"accept-encoding\": \"gzip, deflate, br\",\n",
        "            \"accept-language\": \"ko-KR,ko;q=0.9,en-US;q=0.8,en;q=0.7\",\n",
        "            \"cache-control\": \"max-age=0\",\n",
        "            \"referer\": u,\n",
        "            \"sec-ch-ua\": '\" Not A;Brand\";v=\"99\", \"Chromium\";v=\"102\", \"Google Chrome\";v=\"102\"',\n",
        "            \"sec-ch-ua-mobile\": \"?0\",\n",
        "            \"sec-ch-ua-platform\": \"Windows\",\n",
        "            \"sec-fetch-dest\": \"document\",\n",
        "            \"sec-fetch-mode\": \"navigate\",\n",
        "            \"sec-fetch-site\": \"same-origin\",\n",
        "            \"sec-fetch-user\": \"?1\",\n",
        "            \"upgrade-insecure-requests\": \"1\",\n",
        "            \"User-Agent\": \"Mozilla/5.0 (Windows NT 10.0; Win64; x64) AppleWebKit/537.36 (KHTML, like Gecko) Chrome/102.0.5005.61 Safari/537.36\",\n",
        "            }"
      ]
    },
    {
      "cell_type": "code",
      "execution_count": 38,
      "metadata": {
        "id": "KhxYuQhqYfeA"
      },
      "outputs": [],
      "source": [
        "\n",
        "r = session.get(u, headers=headers)\n",
        "# r = requests.get(u, headers=headers)"
      ]
    },
    {
      "cell_type": "code",
      "execution_count": 39,
      "metadata": {
        "colab": {
          "base_uri": "https://localhost:8080/"
        },
        "id": "a5SIRaxhYfeB",
        "outputId": "2d06de02-1991-4c9c-a0f5-48bcb67e9599"
      },
      "outputs": [
        {
          "data": {
            "text/plain": [
              "<Response [200]>"
            ]
          },
          "execution_count": 39,
          "metadata": {},
          "output_type": "execute_result"
        }
      ],
      "source": [
        "r # 정상 연결 확인할 수 있음. "
      ]
    },
    {
      "cell_type": "code",
      "execution_count": 40,
      "metadata": {
        "id": "pCwCYKE7YfeC"
      },
      "outputs": [],
      "source": [
        "b = bs(r.content, 'html.parser') # beautiful soup object로 파싱해서"
      ]
    },
    {
      "cell_type": "code",
      "execution_count": 41,
      "metadata": {
        "id": "dGeWoDS4YfeE"
      },
      "outputs": [],
      "source": [
        "news_urls = b.find_all('div', {'class': 'news_dsc'}) # 기사 url만 가져옴. \n",
        "news_urls = [n.find('a').attrs['href'] for n in news_urls] \n"
      ]
    },
    {
      "cell_type": "code",
      "execution_count": 46,
      "metadata": {},
      "outputs": [
        {
          "data": {
            "text/plain": [
              "['http://www.jejumaeil.net/news/articleView.html?idxno=316038',\n",
              " 'https://m.asiatime.co.kr/article/20220530500404',\n",
              " 'http://www.itdaily.kr/news/articleView.html?idxno=208334',\n",
              " 'https://byline.network/?p=9004111222475733',\n",
              " 'http://m.betanews.net:8080/article/1337978.html',\n",
              " 'http://www.ziksir.com/news/articleView.html?idxno=25627',\n",
              " 'http://www.econotelling.com/news/articleView.html?idxno=6826',\n",
              " 'http://www.s-journal.co.kr/news/articleView.html?idxno=5624',\n",
              " 'http://www.meconomynews.com/news/articleView.html?idxno=67149',\n",
              " 'https://m.news.naver.com/read?mode=LSD&mid=sec&sid1=101&oid=032&aid=0003150249',\n",
              " 'http://www.ziksir.com/news/articleView.html?idxno=25617',\n",
              " 'https://www.natv.go.kr/natv/news/newsView.do?newsId=503939',\n",
              " 'https://m.news.naver.com/read?mode=LSD&mid=sec&sid1=105&oid=015&aid=0004705742',\n",
              " 'https://m.news.naver.com/read?mode=LSD&mid=sec&sid1=101&oid=022&aid=0003700698',\n",
              " 'https://www.dailyimpact.co.kr/news/articleView.html?idxno=80078']"
            ]
          },
          "execution_count": 46,
          "metadata": {},
          "output_type": "execute_result"
        }
      ],
      "source": [
        "news_urls"
      ]
    },
    {
      "cell_type": "code",
      "execution_count": 42,
      "metadata": {},
      "outputs": [
        {
          "data": {
            "text/plain": [
              "15"
            ]
          },
          "execution_count": 42,
          "metadata": {},
          "output_type": "execute_result"
        }
      ],
      "source": [
        "len(news_urls)"
      ]
    },
    {
      "cell_type": "code",
      "execution_count": 43,
      "metadata": {},
      "outputs": [
        {
          "data": {
            "text/plain": [
              "['제주매일',\n",
              " '아시아타임즈',\n",
              " '아이티데일리',\n",
              " '바이라인네트워크',\n",
              " '베타뉴스',\n",
              " '직썰',\n",
              " '이코노텔링',\n",
              " 'S-저널',\n",
              " '시장경제신문',\n",
              " '경향신문',\n",
              " '직썰',\n",
              " '국회방송',\n",
              " '한국경제언론사 선정',\n",
              " '세계일보언론사 선정',\n",
              " '데일리임팩트']"
            ]
          },
          "execution_count": 43,
          "metadata": {},
          "output_type": "execute_result"
        }
      ],
      "source": [
        "companies = b.find_all('div', {'class': 'info_group'})\n",
        "companies = [c.find('a').get_text() for c in companies]\n",
        "companies"
      ]
    },
    {
      "cell_type": "code",
      "execution_count": 45,
      "metadata": {},
      "outputs": [
        {
          "data": {
            "text/plain": [
              "['삼성을 유치한 평택의 기적을 보며',\n",
              " \"[마감] 원숭이두창에 소아급성간염까지...차백신연구소 등 '급등'\",\n",
              " '에이수스, 올 1분기 커머셜 노트북 시장서 시장점유율 1위 달성',\n",
              " '삼성 이재용과 인텔 팻 겔싱어는 왜 만났을까',\n",
              " '[주요공시]엘브이엠씨-신송홀딩스-삼성전자-한화생명-삼보판자',\n",
              " \"이재용 '리더십' 진일보, 인텔 CEO와 '韓美 반도체 협력' 속도\",\n",
              " \"이재용 - 팻 겔싱어 '韓美 반도체 정상회의'\",\n",
              " \"세계 1·2위 만남… 이재용, 팻 겔싱어 인텔 CEO와 '반도체 협력' 본격 시동\",\n",
              " \"[시경Today] 롯데아울렛, '서프라이스 위크'... 신세계사이먼, '쇼핑 카니발' 外\",\n",
              " '‘반도체 라이벌’ 삼성 이재용·인텔 겔싱어 회동',\n",
              " '이재용, 겔싱어 인텔 CEO와 반도체 협력방안 논의',\n",
              " '원조 친노 이광재 역전승 vs 기사회생 김진태 굳히기',\n",
              " \"노트북도 한국 제쳤다…삼성·LG 누르고 '첫 1위' 이변\",\n",
              " '이재용, 인텔 겔싱어 CEO와 회동… 반도체 협력 강화하나',\n",
              " \"한·일 관계 '봄' 오나…양국 기업인 '의기투합'\"]"
            ]
          },
          "execution_count": 45,
          "metadata": {},
          "output_type": "execute_result"
        }
      ],
      "source": [
        "titles = b.find_all('div', {'class': 'tit'})\n",
        "titles = [t.get_text() for t in titles]\n",
        "titles"
      ]
    },
    {
      "cell_type": "code",
      "execution_count": 16,
      "metadata": {
        "id": "Qjsm-umEYfeF"
      },
      "outputs": [],
      "source": [
        "naver_news_str = 'm.news.naver.com'\n",
        "news_urls = [u for u in news_urls if naver_news_str in u] # 그 중 네이버 뉴스 형식으로 되어있는거만 모음. "
      ]
    },
    {
      "cell_type": "code",
      "execution_count": 17,
      "metadata": {
        "colab": {
          "base_uri": "https://localhost:8080/"
        },
        "id": "K45dn3rBYfeF",
        "outputId": "9e273754-0f63-4869-e30b-91ed8e253980"
      },
      "outputs": [
        {
          "data": {
            "text/plain": [
              "['https://m.news.naver.com/read?mode=LSD&mid=sec&sid1=101&oid=032&aid=0003150249',\n",
              " 'https://m.news.naver.com/read?mode=LSD&mid=sec&sid1=101&oid=022&aid=0003700698',\n",
              " 'https://m.news.naver.com/read?mode=LSD&mid=sec&sid1=105&oid=015&aid=0004705742']"
            ]
          },
          "execution_count": 17,
          "metadata": {},
          "output_type": "execute_result"
        }
      ],
      "source": [
        "news_urls # 그 페이지에서 남은 결과 "
      ]
    },
    {
      "cell_type": "markdown",
      "metadata": {
        "id": "iVJseNsHYfeG"
      },
      "source": [
        "재영 여기서부터 해줄꺼:\n",
        "\n",
        "- 각 기사 url 타고 들어가서 [회사명, 제목, 신문사, 기자, 입력날짜, 내용본문] 이렇게 뽑아주는 크롤링 함수 만들어주면 됨.\n",
        "- output 형태는 굳이 pandas로 할 필요 없으며, list of dictionaries 가 나을 것 같음. \n",
        "    - 예시: [\n",
        "        {\n",
        "            '회사': '삼성전자',\n",
        "            '제목': '삼성전자 이재용이...',\n",
        "            '신문사': '조선일보',\n",
        "            '기자': '윤재영',\n",
        "            '입력날짜': '2022.05.30 오후 5:57',\n",
        "            '내용본문': '이재용 회장이..',\n",
        "            },\n",
        "        {\n",
        "            '회사': '삼성전자',\n",
        "            '제목': '삼성전자 반도체가...',\n",
        "            '신문사': '조선일보',\n",
        "            '기자': '최재필',\n",
        "            '입력날짜': '2022.05.30 오후 6:27',\n",
        "            '내용본문': '반도체 시장이..',\n",
        "            },\n",
        "    ]\n",
        "\n",
        "- 너가 함수 만드는 동안 나도 이거 전종목 크롤링 돌리는 함수 만들고 url 모아두고 있을께 ㅇㅇ "
      ]
    },
    {
      "cell_type": "code",
      "execution_count": 18,
      "metadata": {
        "id": "2J4uuwgGRR1-"
      },
      "outputs": [],
      "source": [
        "def article_crawling(url_link):\n",
        "  url=url_link\n",
        "  r=session.get(url, headers=headers)\n",
        "  b=bs(r.content,'html.parser')\n",
        "  news_head = b.find('h2', {'class': 'media_end_head_headline'}) # 기사 제목만 가져옴. \n",
        "  headline=news_head.get_text()\n",
        "  news_text = b.find('div', {'id': 'dic_area'}) # 기사 본문만 가져옴. \n",
        "  text=news_text.get_text()\n",
        "  news_section = b.find('em', {'class': 'media_end_categorize_item'}) # 기사 섹션만 가져옴.\n",
        "  section=news_section.get_text()\n",
        "  news_writer = b.find('em', {'class': 'media_end_head_journalist_name'}) # 기자이름만 가져옴.\n",
        "  writer=news_writer.get_text()\n",
        "  news_link = b.find('a', {'class': \"media_end_head_origin_link\"} ).attrs['href'] # 기사 링크만 가져옴.\n",
        "  link=news_link\n",
        "  news_date = b.find('span', {'class': 'media_end_head_info_datestamp_time _ARTICLE_DATE_TIME'}) # 기사 날짜만 가져옴.\n",
        "  date=news_date.get_text()\n",
        "  result={'headline':headline,'date':date,'writer':writer,'section':section,'link':link,'text':text}\n",
        "  return result\n",
        "\n",
        "\n",
        "  "
      ]
    },
    {
      "cell_type": "code",
      "execution_count": 21,
      "metadata": {
        "id": "2oRjBXnPwq6X"
      },
      "outputs": [],
      "source": [
        "url= \"https://n.news.naver.com/mnews/article/032/0003150249?sid=101\"\n",
        "\n",
        "r = session.get(url, headers=headers)"
      ]
    },
    {
      "cell_type": "code",
      "execution_count": 22,
      "metadata": {
        "id": "Ejt904t12dh-"
      },
      "outputs": [],
      "source": [
        "b = bs(r.content, 'html.parser') # beautiful soup object로 파싱해서"
      ]
    },
    {
      "cell_type": "code",
      "execution_count": 23,
      "metadata": {
        "colab": {
          "base_uri": "https://localhost:8080/",
          "height": 35
        },
        "id": "f-5HtWJB2r03",
        "outputId": "c4a8ce99-1591-4fec-e1ba-214a93b5c1a3"
      },
      "outputs": [
        {
          "data": {
            "text/plain": [
              "'‘반도체 라이벌’ 삼성 이재용·인텔 겔싱어 회동'"
            ]
          },
          "execution_count": 23,
          "metadata": {},
          "output_type": "execute_result"
        }
      ],
      "source": [
        "news_head = b.find('h2', {'class': 'media_end_head_headline'}) # 기사 제목만 가져옴. \n",
        "headline=news_head.get_text()\n",
        "headline"
      ]
    },
    {
      "cell_type": "code",
      "execution_count": 24,
      "metadata": {
        "colab": {
          "base_uri": "https://localhost:8080/",
          "height": 182
        },
        "id": "Szy4WxIh2r3J",
        "outputId": "1433244c-4ef1-4983-ff3b-474e553dc464"
      },
      "outputs": [
        {
          "data": {
            "text/plain": [
              "'\\n한·미 정상 평택공장 방문 열흘 만양사 경영진도 참여, 릴레이 회의파운드리 등 협력분야 확대될 듯이재용 삼성전자 부회장(사진)이 30일 팻 겔싱어 인텔 최고경영자(CEO)와 만나 협력방안을 논의했다. 조 바이든 미국 대통령과 윤석열 대통령이 지난 20일 삼성전자 평택 공장을 방문한 지 열흘 만에 반도체업계 1위와 2위 업체의 수장이 만나 반도체 분야 협력 방안에 대한 의견을 교환한 것이다.이날 삼성전자에 따르면 이 부회장은 방한 중인 겔싱어 CEO를 만나 차세대 메모리, 시스템반도체 설계(팹리스)·위탁생산(파운드리), PC와 모바일 등 다양한 분야에서의 협력 방안을 논의했다. 이 자리에는 이 부회장과 겔싱어 CEO 외에 두 업체 경영진도 참여했다. 삼성전자에서는 경계현 DS부문장, 노태문 MX사업부장, 이정배 메모리사업부장, 최시영 파운드리사업부장, 박용인 시스템LSI사업부장 등이 배석해 인텔의 임원들과 릴레이 회의를 한 것으로 전해졌다.삼성전자와 인텔은 반도체 시장에서 1, 2위를 다투는 ‘라이벌’ 관계다. 삼성전자는 지난해 반도체에서 823억달러의 매출을 올려 인텔(790억달러)을 제치고 다시 1위에 올랐다. 삼성전자가 인텔을 앞선 것은 2018년 이후 3년 만이다. 지난해 3월 인텔이 파운드리 시장 진출을 공식 선언하면서 앞으로 파운드리 분야에서 대만 TSMC와 삼성전자, 인텔의 ‘3파전’이 예상된다. 메모리 반도체 1위인 삼성전자는 2030년까지 파운드리 분야에서도 세계 1위로 올라서겠다는 계획을 밝힌 바 있다.두 업체가 손을 잡을 가능성도 있다. 겔싱어 CEO는 지난해 1월 실적 발표에서 “우리 포트폴리오를 고려할 때 특정 기술과 제품에 대한 외부 파운드리 사용은 더 늘려갈 것으로 예상된다”고 말했다. 반도체업계에서는 인텔이 주력 제품인 중앙처리장치(CPU)는 자체 생산하고, 나머지 칩셋 같은 제품은 삼성전자와 대만의 TSMC 등에 생산을 맡길 것이라는 해석이 나온다. 반도체업계 관계자는 “인텔이 글로벌 반도체 수급 불균형을 해소하기 위해서는 10나노 이하 첨단 미세공정을 보유한 삼성전자, TSMC와의 협력은 피할 수 없을 것으로 보인다”고 말했다.\\n\\t\\t'"
            ]
          },
          "execution_count": 24,
          "metadata": {},
          "output_type": "execute_result"
        }
      ],
      "source": [
        "news_text = b.find('div', {'id': 'dic_area'}) # 기사 본문만 가져옴. \n",
        "text=news_text.get_text()\n",
        "text"
      ]
    },
    {
      "cell_type": "code",
      "execution_count": 25,
      "metadata": {
        "id": "UrdeEfM7PBcu"
      },
      "outputs": [],
      "source": [
        "# !pip install pororo"
      ]
    },
    {
      "cell_type": "code",
      "execution_count": 26,
      "metadata": {
        "colab": {
          "base_uri": "https://localhost:8080/",
          "height": 35
        },
        "id": "NcLDCqtC2r5y",
        "outputId": "24410080-e9f6-4c12-879d-b600e21ff78b"
      },
      "outputs": [
        {
          "data": {
            "text/plain": [
              "'경제'"
            ]
          },
          "execution_count": 26,
          "metadata": {},
          "output_type": "execute_result"
        }
      ],
      "source": [
        "news_section = b.find('em', {'class': 'media_end_categorize_item'}) # 기사 본문만 가져옴.\n",
        "section=news_section.get_text()\n",
        "section"
      ]
    },
    {
      "cell_type": "code",
      "execution_count": 27,
      "metadata": {
        "colab": {
          "base_uri": "https://localhost:8080/",
          "height": 35
        },
        "id": "K2JUPWeJMDa9",
        "outputId": "a49f956c-7450-4b82-9ff3-cf29019eb2dd"
      },
      "outputs": [
        {
          "data": {
            "text/plain": [
              "'이재덕 기자'"
            ]
          },
          "execution_count": 27,
          "metadata": {},
          "output_type": "execute_result"
        }
      ],
      "source": [
        "news_writer = b.find('em', {'class': 'media_end_head_journalist_name'}) # 기사 본문만 가져옴.\n",
        "writer=news_writer.get_text()\n",
        "writer"
      ]
    },
    {
      "cell_type": "code",
      "execution_count": 28,
      "metadata": {
        "colab": {
          "base_uri": "https://localhost:8080/",
          "height": 35
        },
        "id": "5GmMcKDMMged",
        "outputId": "d2f4fe92-70ee-45c1-e319-822898fb6fb7"
      },
      "outputs": [
        {
          "data": {
            "text/plain": [
              "'https://www.khan.co.kr/economy/industry-trade/article/202205302227025'"
            ]
          },
          "execution_count": 28,
          "metadata": {},
          "output_type": "execute_result"
        }
      ],
      "source": [
        "news_link = b.find('a', {'class': \"media_end_head_origin_link\"} ).attrs['href'] # 기사 본문만 가져옴.\n",
        "link=news_link\n",
        "link"
      ]
    },
    {
      "cell_type": "code",
      "execution_count": 29,
      "metadata": {
        "colab": {
          "base_uri": "https://localhost:8080/",
          "height": 35
        },
        "id": "7oZs3DipOOH0",
        "outputId": "50fe1e61-5a6d-40d5-b54c-5f73da29fbc7"
      },
      "outputs": [
        {
          "data": {
            "text/plain": [
              "'2022.05.30. 오후 10:29'"
            ]
          },
          "execution_count": 29,
          "metadata": {},
          "output_type": "execute_result"
        }
      ],
      "source": [
        "news_date = b.find('span', {'class': 'media_end_head_info_datestamp_time _ARTICLE_DATE_TIME'}) # 기사 본문만 가져옴.\n",
        "date=news_date.get_text()\n",
        "date"
      ]
    },
    {
      "cell_type": "code",
      "execution_count": null,
      "metadata": {
        "id": "_z53PeGIP1Qj"
      },
      "outputs": [],
      "source": []
    },
    {
      "cell_type": "code",
      "execution_count": 26,
      "metadata": {
        "id": "wbHb9G8yP4lv"
      },
      "outputs": [],
      "source": [
        "# from pororo import Pororo"
      ]
    },
    {
      "cell_type": "code",
      "execution_count": 30,
      "metadata": {
        "colab": {
          "base_uri": "https://localhost:8080/"
        },
        "id": "BxsY2AmhP5ck",
        "outputId": "8fe71d03-4caf-4567-8534-09b6f386b4e9"
      },
      "outputs": [
        {
          "data": {
            "text/plain": [
              "{'negative': 0.17410160601139069, 'positive': 0.8258984088897705}"
            ]
          },
          "execution_count": 30,
          "metadata": {},
          "output_type": "execute_result"
        }
      ],
      "source": [
        "# sa = Pororo(task='sentiment', model='brainbert.base.ko.nsmc', lang='ko')\n",
        "# sa(text, show_probs=True)"
      ]
    },
    {
      "cell_type": "code",
      "execution_count": 31,
      "metadata": {
        "colab": {
          "base_uri": "https://localhost:8080/"
        },
        "id": "ZvsbH6RxQKqI",
        "outputId": "35c73de9-09f2-4184-c7a0-552b8f8d9c43"
      },
      "outputs": [
        {
          "data": {
            "text/plain": [
              "{'negative': 0.9926801919937134, 'positive': 0.007319830823689699}"
            ]
          },
          "execution_count": 31,
          "metadata": {},
          "output_type": "execute_result"
        }
      ],
      "source": [
        "# sa('아 우리 조 팀플 준비 하려면 지금 너무 시간이 없다. 상황이 너무 어렵다', show_probs=True)"
      ]
    },
    {
      "cell_type": "code",
      "execution_count": null,
      "metadata": {
        "id": "aIjuWsXwQv16"
      },
      "outputs": [],
      "source": []
    }
  ],
  "metadata": {
    "colab": {
      "collapsed_sections": [],
      "name": "naver_news.ipynb",
      "provenance": []
    },
    "interpreter": {
      "hash": "43bd92a372794bd421f35bcc4cb2908851e192b974b03c533f4002c74631e781"
    },
    "kernelspec": {
      "display_name": "Python 3.8.12 ('sandbox38')",
      "language": "python",
      "name": "python3"
    },
    "language_info": {
      "codemirror_mode": {
        "name": "ipython",
        "version": 3
      },
      "file_extension": ".py",
      "mimetype": "text/x-python",
      "name": "python",
      "nbconvert_exporter": "python",
      "pygments_lexer": "ipython3",
      "version": "3.8.12"
    },
    "orig_nbformat": 4
  },
  "nbformat": 4,
  "nbformat_minor": 0
}
